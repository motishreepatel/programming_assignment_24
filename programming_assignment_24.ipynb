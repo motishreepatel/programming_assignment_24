{
 "cells": [
  {
   "cell_type": "code",
   "execution_count": 2,
   "metadata": {},
   "outputs": [
    {
     "name": "stdout",
     "output_type": "stream",
     "text": [
      "[1, 2, 3, 40]\n"
     ]
    }
   ],
   "source": [
    "#Q - Question1\n",
    "'''Create a function that takes an integer and returns a list from 1 to the given number, where:\n",
    "1. If the number can be divided evenly by 4, amplify it by 10 (i.e. return 10 times the\n",
    "number).\n",
    "2. If the number cannot be divided evenly by 4, simply return the number.'''\n",
    "#Answer:\n",
    "def amplify_numbers(n):\n",
    "    amplified_list = []\n",
    "    for num in range(1, n + 1):\n",
    "        if num % 4 == 0:\n",
    "            amplified_list.append(num * 10)\n",
    "        else:\n",
    "            amplified_list.append(num)\n",
    "    return amplified_list\n",
    "\n",
    "number = 4\n",
    "result = amplify_numbers(number)\n",
    "print(result)\n",
    "\n"
   ]
  },
  {
   "cell_type": "code",
   "execution_count": 3,
   "metadata": {},
   "outputs": [
    {
     "name": "stdout",
     "output_type": "stream",
     "text": [
      "7\n"
     ]
    }
   ],
   "source": [
    "#Q - Question2\n",
    "#Create a function that takes a list of numbers and return the number that&#39;s unique.\n",
    "#Answer:\n",
    "def find_unique_number(numbers):\n",
    "    number_count = {}\n",
    "    for num in numbers:\n",
    "        if num in number_count:\n",
    "            number_count[num] += 1\n",
    "        else:\n",
    "            number_count[num] = 1\n",
    "    for num, count in number_count.items():\n",
    "        if count == 1:\n",
    "            return num\n",
    "    return None\n",
    "\n",
    "numbers_list = [3,3,3,7,3,3]\n",
    "unique_number = find_unique_number(numbers_list)\n",
    "print(unique_number)\n"
   ]
  },
  {
   "cell_type": "code",
   "execution_count": 4,
   "metadata": {},
   "outputs": [
    {
     "name": "stdout",
     "output_type": "stream",
     "text": [
      "Circle Area: 380.132711084365\n",
      "Circle Perimeter: 69.11503837897544\n"
     ]
    }
   ],
   "source": [
    "#Q - Question3\n",
    "'''Your task is to create a Circle constructor that creates a circle with a radius provided by an\n",
    "argument. The circles constructed must have two getters getArea() (PIr^2) and\n",
    "getPerimeter() (2PI*r) which give both respective areas and perimeter (circumference).\n",
    "\n",
    "For help with this class, I have provided you with a Rectangle constructor which you can use\n",
    "as a base example.''' \n",
    "#Answer:\n",
    "import math\n",
    "\n",
    "class Circle:\n",
    "    def __init__(self, radius):\n",
    "        self.radius = radius\n",
    "\n",
    "    def getArea(self):\n",
    "        return math.pi * self.radius**2\n",
    "\n",
    "    def getPerimeter(self):\n",
    "        return 2 * math.pi * self.radius\n",
    "\n",
    "\n",
    "\n",
    "circle = Circle(11)\n",
    "\n",
    "# Get the area and perimeter of the circle\n",
    "area = circle.getArea()\n",
    "perimeter = circle.getPerimeter()\n",
    "\n",
    "print(\"Circle Area:\", area)\n",
    "print(\"Circle Perimeter:\", perimeter)\n",
    "\n"
   ]
  },
  {
   "cell_type": "code",
   "execution_count": 5,
   "metadata": {},
   "outputs": [
    {
     "name": "stdout",
     "output_type": "stream",
     "text": [
      "['apple', 'banana', 'cherry', 'elderberry', 'dragonfruit']\n"
     ]
    }
   ],
   "source": [
    "#Q - Question4\n",
    "#Create a function that takes a list of strings and return a list, sorted from shortest to longest.\n",
    "#Answer:\n",
    "def sort_strings_by_length(strings):\n",
    "    sorted_list = sorted(strings, key=len)\n",
    "    return sorted_list\n",
    "\n",
    "string_list = [\"apple\", \"banana\", \"cherry\", \"dragonfruit\", \"elderberry\"]\n",
    "sorted_strings = sort_strings_by_length(string_list)\n",
    "print(sorted_strings)\n"
   ]
  },
  {
   "cell_type": "code",
   "execution_count": 6,
   "metadata": {},
   "outputs": [
    {
     "name": "stdout",
     "output_type": "stream",
     "text": [
      "True\n"
     ]
    }
   ],
   "source": [
    "#Q - Question5\n",
    "'''Create a function that validates whether three given integers form a Pythagorean triplet. The\n",
    "sum of the squares of the two smallest integers must equal the square of the largest number to\n",
    "be validated.'''\n",
    "\n",
    "#Answer:\n",
    "def is_pythagorean_triplet(a, b, c):\n",
    "    numbers = [a, b, c]\n",
    "    numbers.sort()  # Sort the numbers in ascending order\n",
    "\n",
    "    if numbers[0]**2 + numbers[1]**2 == numbers[2]**2:\n",
    "        return True\n",
    "    else:\n",
    "        return False\n",
    "\n",
    "num1, num2, num3 = 3, 4, 5\n",
    "result = is_pythagorean_triplet(num1, num2, num3)\n",
    "print(result)\n"
   ]
  },
  {
   "cell_type": "code",
   "execution_count": null,
   "metadata": {},
   "outputs": [],
   "source": []
  }
 ],
 "metadata": {
  "kernelspec": {
   "display_name": "Python 3.9.6 64-bit",
   "language": "python",
   "name": "python3"
  },
  "language_info": {
   "codemirror_mode": {
    "name": "ipython",
    "version": 3
   },
   "file_extension": ".py",
   "mimetype": "text/x-python",
   "name": "python",
   "nbconvert_exporter": "python",
   "pygments_lexer": "ipython3",
   "version": "3.9.6"
  },
  "orig_nbformat": 4,
  "vscode": {
   "interpreter": {
    "hash": "31f2aee4e71d21fbe5cf8b01ff0e069b9275f58929596ceb00d14d90e3e16cd6"
   }
  }
 },
 "nbformat": 4,
 "nbformat_minor": 2
}
